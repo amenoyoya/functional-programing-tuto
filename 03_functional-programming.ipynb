{
 "cells": [
  {
   "cell_type": "markdown",
   "metadata": {},
   "source": [
    "# 関数型プログラミング\n",
    "\n",
    "## 関数型プログラミングの特徴\n",
    "\n",
    "### ファーストクラスオブジェクトとしての関数\n",
    "- 関数型プログラミングでは、関数はファーストクラスオブジェクトとして扱われる\n",
    "    - ファーストクラスオブジェクト:\n",
    "        - 計算の対象となる値\n",
    "        - 変数にバインドしたり、データ構造に埋め込んだり、関数の引数・返戻値とすることが可能\n",
    "- 関数がファーストクラスオブジェクトであることの最大の利点は、高階関数が利用可能になること\n",
    "    - **高階関数**: 引数・返戻値に関数を指定することが可能な関数\n",
    "\n",
    "### 参照透過性\n",
    "- 参照透過性: 「プログラムの構成要素が同じもの同士は等しい」という性質\n",
    "    - 記号表現: `A == A`\n",
    "        - 左辺・右辺の記号 `A` が何を示しているとしても、それらは必ず等しくなければならない\n",
    "    - 例:\n",
    "        - `2 == 2`: 2 は 2 に等しい\n",
    "        - `1 + 1 == 2`: 1+1 の計算結果は 2 に等しい\n",
    "- 参照透過性が成立する条件:\n",
    "    - 通常、同じ値・変数は必ず参照透過性が成立する\n",
    "        - `2 == 2`\n",
    "        - `x = 100; x == x`\n",
    "    - 関数については、「関数の呼び出し結果が、その関数の引数のみに依存する」場合のみ参照透過性が成立\n",
    "        - 逆説的に、「関数の呼び出し結果が、その関数の引数のみに依存しない」場合は参照透過性が成立しない\n",
    "        - 参照透過性が成立しない関数を **副作用** のある関数と呼ぶ\n",
    "        - 特に、可変なデータを引数にとって、そのデータの内容を変更してしまうような関数を **破壊的メソッド** と呼ぶ"
   ]
  },
  {
   "cell_type": "code",
   "execution_count": 4,
   "metadata": {},
   "outputs": [
    {
     "data": {
      "text/plain": [
       "([1, 2], [1, 2, 2])"
      ]
     },
     "metadata": {},
     "output_type": "display_data"
    },
    {
     "data": {
      "text/plain": [
       "false"
      ]
     },
     "metadata": {},
     "output_type": "display_data"
    }
   ],
   "source": [
    "\"\"\"\n",
    "push!() 関数: 可変なデータ構造を変更するため、副作用のある関数 => 参照透過性が成立しない\n",
    "\n",
    "* Julia において、破壊的メソッドは慣例的に `!` を後ろにつけた関数名としている\n",
    "\"\"\"\n",
    "# Vector: 可変なデータ構造\n",
    "vec = [1]\n",
    "\n",
    "# push!(vec, 2) 関数の返戻値をコピーして持っておく\n",
    "x = push!(vec, 2) |> copy\n",
    "\n",
    "# push!(vec, 2) 関数の返戻値をコピーして持っておく\n",
    "y = push!(vec, 2) |> copy\n",
    "\n",
    "# 参照透過性が成立している場合、上記 x, y は等しくなければならない\n",
    "display((x, y))\n",
    "display(x == y)"
   ]
  },
  {
   "cell_type": "code",
   "execution_count": 3,
   "metadata": {},
   "outputs": [
    {
     "data": {
      "text/plain": [
       "([1, 2], [1, 2])"
      ]
     },
     "metadata": {},
     "output_type": "display_data"
    },
    {
     "data": {
      "text/plain": [
       "true"
      ]
     },
     "metadata": {},
     "output_type": "display_data"
    }
   ],
   "source": [
    "\"\"\"\n",
    "vcat() 関数: 可変なデータ構造を変更しないため、副作用のない関数 => 参照透過性が成立する\n",
    "\"\"\"\n",
    "# Vector: 可変なデータ構造\n",
    "vec = [1]\n",
    "\n",
    "# vcat(vec, 2) 関数の返戻値をコピーして持っておく\n",
    "x = vcat(vec, 2) |> copy\n",
    "\n",
    "# vcat(vec, 2) 関数の返戻値をコピーして持っておく\n",
    "y = vcat(vec, 2) |> copy\n",
    "\n",
    "# 参照透過性が成立している場合、上記 x, y は等しくなければならない\n",
    "display((x, y))\n",
    "display(x == y)"
   ]
  },
  {
   "cell_type": "markdown",
   "metadata": {},
   "source": [
    "### 参照透過性の保証\n",
    "参照透過性が保証されていない場合、処理結果の予測が難しくなるため、コードの正しさを見た目から判断することができなくなる\n",
    "\n",
    "これがソフトウェアのバグを発生させる一番の原因である\n",
    "\n",
    "- 参照透過性を喪失するケース:\n",
    "    1. 値の参照透過性を破壊する可変なデータ\n",
    "        - 可変なデータはすべて参照透過性を喪失する可能性をはらんでいる\n",
    "    2. 変数の参照透過性を破壊する代入操作\n",
    "        - 値の再代入可能な変数はすべて参照透過性を喪失する可能性をはらんでいる\n",
    "    3. 関数の参照透過性を破壊する副作用\n",
    "        - 破壊的メソッドは参照透過性を喪失する\n",
    "            - `push!()` 等の可変データ操作関数\n",
    "        - 副作用のある関数は参照透過性を保証しない\n",
    "            - `Dates.now()` 等の関数は、そもそも返戻値が時間に依存するため参照透過性を保証しない\n",
    "\n",
    "上記3つのケースを回避することで、コードの参照透過性を保証することができる\n",
    "\n",
    "#### 値の参照透過性: 不変なデータ\n",
    "値の参照透過性を保証するためには、可変なデータ構造を利用しなければ良い\n",
    "\n",
    "一度生成されたデータの中身が変更されないデータのことを **不変なデータ** と呼ぶ"
   ]
  },
  {
   "cell_type": "code",
   "execution_count": 7,
   "metadata": {},
   "outputs": [
    {
     "data": {
      "text/plain": [
       "true"
      ]
     },
     "metadata": {},
     "output_type": "display_data"
    },
    {
     "data": {
      "text/plain": [
       "true"
      ]
     },
     "metadata": {},
     "output_type": "display_data"
    }
   ],
   "source": [
    "\"\"\"\n",
    "不変なデータ構造の定義\n",
    "\"\"\"\n",
    "\n",
    "\"\"\"\n",
    "    empty() ::Nothing\n",
    "\n",
    "普遍的に nothing なデータ\n",
    "\"\"\"\n",
    "empty() ::Nothing = nothing\n",
    "\n",
    "\"\"\"\n",
    "    struct ConstData{T} end\n",
    "\n",
    "中身の値が普遍的に {T} であることが保証されたデータ\n",
    "\"\"\"\n",
    "struct ConstData{T} end\n",
    "\n",
    "get(::ConstData{T}) where T = T\n",
    "set(value::Any) = ConstData{value}()\n",
    "\n",
    "display(empty() === nothing)\n",
    "display(get(set(100)) === 100)"
   ]
  },
  {
   "cell_type": "markdown",
   "metadata": {},
   "source": [
    "#### 変数の参照透過性: 代入の抑制\n",
    "変数は代入によって参照透過性を喪失するため、変数の参照透過性を保証するためには代入を行わなければ良い\n",
    "\n",
    "ここで、多くのプログラミング言語では「束縛」も「代入」も同じ `=` 演算子を使っているが、この2つは明確に別の操作である\n",
    "\n",
    "「束縛」は「値に変数名というラベル付けを行う」ことであり、「代入」は「変数に値を設定する」ことである\n",
    "\n",
    "言い換えると、「束縛」では「一つの変数ラベルには一つの値が対応する」のに対して、「代入」では「一つの変数ラベルに一つ以上の値が対応し得る」ことになる\n",
    "\n",
    "最近のプログラミング言語では、値の束縛を行うために `const` 等のキーワード宣言が行えるようになっており、こういった変数に対しては代入ができないように言語レベルでサポートされていることが多い"
   ]
  },
  {
   "cell_type": "code",
   "execution_count": 9,
   "metadata": {},
   "outputs": [
    {
     "data": {
      "text/plain": [
       "10"
      ]
     },
     "metadata": {},
     "output_type": "display_data"
    },
    {
     "data": {
      "text/plain": [
       "10"
      ]
     },
     "metadata": {},
     "output_type": "display_data"
    }
   ],
   "source": [
    "\"\"\"\n",
    "足し算の定義: 命令型モデルと関数型モデルの比較\n",
    "\"\"\"\n",
    "# 反復文を用いた足し算の定義 (命令型モデル)\n",
    "## 代入操作が内部で行われていて、参照透過性が保証されていない\n",
    "addInstruction(x::Int, y::Int) ::Int = begin\n",
    "    result = x\n",
    "    for times = 1:y # times 変数への代入操作\n",
    "        result = result + 1 # result 変数への代入操作\n",
    "    end\n",
    "    result\n",
    "end\n",
    "\n",
    "# 関数型プログラミングによる足し算の定義\n",
    "## 繰り返し処理を再帰呼び出しで代替することで、代入操作を不要にし、参照透過性を保証している\n",
    "addFunction(x::Int, y::Int) ::Int = y < 1 ? x : addFunction(x + 1, y - 1)\n",
    "\n",
    "# 4 + 6 -> 10\n",
    "display(addInstruction(4, 6))\n",
    "display(addFunction(4, 6))"
   ]
  },
  {
   "cell_type": "markdown",
   "metadata": {},
   "source": [
    "#### 関数の参照透過性: 副作用の分離\n",
    "関数の参照透過性を保証するには、副作用を排除すれば良い\n",
    "\n",
    "しかしながら、すべての副作用を排除して良いかと言えば、話はそう単純ではない\n",
    "\n",
    "計算機には、計算結果を人間に表示する機能や、データを外部の記憶装置に蓄積する機能などが不可欠だからである\n",
    "\n",
    "そのため、副作用を制御するための基本的な戦略は、副作用を持つ部分と持たない部分を分離することになる\n",
    "\n",
    "両者をきちんと分離することで、少なくとも副作用のない **純粋な関数** については、参照透過性の利点を享受できるようになる\n",
    "\n",
    "このとき、純粋な関数から副作用のある関数を呼び出してしまうと、副作用汚染が発生し、参照透過性が失われてしまうため注意する必要がある"
   ]
  },
  {
   "cell_type": "code",
   "execution_count": 10,
   "metadata": {},
   "outputs": [
    {
     "data": {
      "text/plain": [
       "22"
      ]
     },
     "metadata": {},
     "output_type": "display_data"
    },
    {
     "data": {
      "text/plain": [
       "22"
      ]
     },
     "metadata": {},
     "output_type": "display_data"
    }
   ],
   "source": [
    "using Dates\n",
    "\n",
    "\"\"\"\n",
    "    getAge(birthYear::Int) ::Int\n",
    "\n",
    "年齢を計算する（副作用が分離されていない関数）\n",
    "* 関数実行時の年が変わると実行結果が変わってしまう\n",
    "\"\"\"\n",
    "getAge(birthYear::Int) ::Int = year(now()) - birthYear # 副作用のある now() 関数を呼んでしまっている\n",
    "\n",
    "\"\"\"\n",
    "    getAge(birthYear::Int, thisYear::Int) ::Int\n",
    "\n",
    "年齢を計算する（副作用が分離されている関数）\n",
    "* 処理結果は純粋に関数の引数のみに依存する\n",
    "\"\"\"\n",
    "getAge(birthYear::Int, thisYear::Int) ::Int = thisYear - birthYear\n",
    "\n",
    "getAge(2000) |> display\n",
    "getAge(2000, year(now())) |> display"
   ]
  },
  {
   "cell_type": "markdown",
   "metadata": {},
   "source": [
    "## 関数型プログラミングの利点\n",
    "\n",
    "### モジュール性が高い\n",
    "ソフトウェアに無秩序に機能を追加していくと、そのコードはすぐに巨大で複雑なものへと膨れ上がる\n",
    "\n",
    "この問題を回避する有効な手段は、全体を小さな単位に分割するという戦略である\n",
    "\n",
    "その小さな単位を **モジュール** と呼び、問題をモジュールに分割することをモジュール化と呼ぶ\n",
    "\n",
    "モジュール化によるプログラミングは、次のような手順で問題を解決する\n",
    "\n",
    "1. 大きな問題を小さな問題に分割する\n",
    "2. 小さな部品で小さな問題を解く\n",
    "3. 小さな問題を解く小さな部品を組み合わせて、大きな問題を解く\n",
    "\n",
    "関数型プログラミングにおいて、小さな部品（モジュール）に相当するのが「値（データ）」「変数」「関数」であり、これらの小さな部品を繋ぎ合わせるのが関数の役目となる\n",
    "\n",
    "モジュール化を成功させるためには、以下の条件を満たす必要がある\n",
    "\n",
    "- 部品の独立性\n",
    "    - 個々のモジュールは、他のモジュールの機能の影響を受けてはならない（参照透過性が保証されている必要がある）\n",
    "    - コードがモジュールとして独立していれば、特定のコードの変更が他の箇所への影響する可能性を軽減し、バグの発生を抑制することができる\n",
    "- 部品の汎用性\n",
    "    - 各モジュールは複数の箇所で利用できることを前提に設計する必要がある\n",
    "    - モジュールが汎用的であるためには、モジュール同士を繋げる接続部分 (**インターフェイス**) が単純で統一的である必要がある\n",
    "- 部品の合成可能性\n",
    "    - モジュールは組み合わせることで大きな問題を解くため、モジュール同士を合成できる必要がある\n",
    "    - 部品の汎用性とも被るが、モジュール同士のインターフェイスが単純で統一的であるほど、合成しやすくなる\n",
    "    - 関数型プログラミングでは、関数を用いてモジュールを合成するため、関数の引数・返戻値が統一的であることが重要となる\n"
   ]
  },
  {
   "cell_type": "code",
   "execution_count": 17,
   "metadata": {},
   "outputs": [
    {
     "data": {
      "text/plain": [
       "22"
      ]
     },
     "metadata": {},
     "output_type": "display_data"
    },
    {
     "data": {
      "text/plain": [
       "15"
      ]
     },
     "metadata": {},
     "output_type": "display_data"
    },
    {
     "data": {
      "text/plain": [
       "120"
      ]
     },
     "metadata": {},
     "output_type": "display_data"
    },
    {
     "data": {
      "text/plain": [
       "2-element Vector{Any}:\n",
       " 1\n",
       "  #57 (generic function with 1 method)"
      ]
     },
     "metadata": {},
     "output_type": "display_data"
    },
    {
     "data": {
      "text/plain": [
       "2-element Vector{Any}:\n",
       " 2\n",
       "  #57 (generic function with 1 method)"
      ]
     },
     "metadata": {},
     "output_type": "display_data"
    },
    {
     "data": {
      "text/plain": [
       "2-element Vector{Any}:\n",
       " 3\n",
       "  #57 (generic function with 1 method)"
      ]
     },
     "metadata": {},
     "output_type": "display_data"
    }
   ],
   "source": [
    "###################################\n",
    "# 部品の独立性: 参照透過性を保証する #\n",
    "###################################\n",
    "\"\"\"\n",
    "    getAge(birthYear::Int, thisYear::Int) ::Int\n",
    "\n",
    "年齢算出関数（副作用のない関数）\n",
    "\"\"\"\n",
    "getAge(birthYear::Int, thisYear::Int) ::Int = thisYear - birthYear\n",
    "\n",
    "using Dates\n",
    "getAge(2000, year(now())) |> display\n",
    "\n",
    "\n",
    "###########################################\n",
    "#               部品の汎用性               #\n",
    "# - 関数の引数・返戻値をなるべく統一する     #\n",
    "# - 個々のモジュールはなるべく小さく設計する #\n",
    "#   - 一つのモジュールは一つの問題を解くべき #\n",
    "# - 関数渡しを適切に利用する                #\n",
    "###########################################\n",
    "\"\"\"\n",
    "    reduceVector(callback::Function, target::Vector{T}, accumulator::T) ::T where T\n",
    "\n",
    "配列に対して関数を適用し、一つの値に蓄積する汎用関数\n",
    "\n",
    "- `callback::Function`: `(accumulator::Any, item::T) ::T where T` 適用関数\n",
    "    - `accumulator::T`: 計算結果が蓄積された値\n",
    "    - `item::T`: target[x] (配列の各要素の値)\n",
    "    - `@returns::T`: 計算結果の値 => accumulator に蓄積される\n",
    "- `taget::Vector{T}`: 関数適用対象の配列\n",
    "- `accumulator::T`: 計算結果を蓄積する値の初期値\n",
    "\"\"\"\n",
    "reduceVector(callback::Function, target::Vector{T}, accumulator::T) where T =\n",
    "    length(target) > 1 ?\n",
    "        reduceVector(callback, target[2:end], callback(accumulator, target[1])) :\n",
    "        (isempty(target) ? accumulator : callback(accumulator, target[1]))\n",
    "\n",
    "\"\"\"\n",
    "    sum(target::Vector{T}, accumulator::T) ::T where T\n",
    "\n",
    "配列の要素をすべて加算し合計を算出する\n",
    "* reduceVector 汎用関数を利用することで簡単に定義できる\n",
    "\"\"\"\n",
    "sum(target::Vector{T}, accumulator::T) where T = reduceVector((acc, item) -> acc + item, target, accumulator)\n",
    "\n",
    "\"\"\"\n",
    "    product(target::Vector{T}, accumulator::T) ::T where T\n",
    "\n",
    "配列の要素をすべて乗算した結果を算出する\n",
    "* reduceVector 汎用関数を利用することで簡単に定義できる\n",
    "\"\"\"\n",
    "product(target::Vector{T}, accumulator::T) where T = reduceVector((acc, item) -> acc * item, target, accumulator)\n",
    "\n",
    "sum([1, 2, 3, 4, 5], 0) |> display\n",
    "product([1, 2, 3, 4, 5], 1) |> display\n",
    "\n",
    "##########################################################################\n",
    "#                            部品の合成可能性                             #\n",
    "# - 関数型プログラミングでは、関数同士を繋ぎ合わせるため **関数の合成** と呼ぶ #\n",
    "# - 遅延評価を利用することで関数のモジュール性をさらに向上させることができる   #\n",
    "#   - 遅延評価: コードの一部の計算を即時処理せず、後回しにすること            #\n",
    "##########################################################################\n",
    "\"\"\"\n",
    "    compose(f::Function, g::Function) ::Function\n",
    "\n",
    "2つの関数を合成し、処理を繋ぎ合わせる: g() => f()\n",
    "\"\"\"\n",
    "compose(f::Function, g::Function) ::Function = (arg::Any) -> f(g(arg))\n",
    "\n",
    "\"\"\"\n",
    "    sequence(n::Int) ::Vector{Int} = [n, n+1, n+2, ...]\n",
    "\n",
    "無限数列の実装\n",
    "* 遅延評価によるストリーム型を利用して、無限に続くデータ構造を表現できる\n",
    "* ストリーム型: 値の並びの一部を遅延評価したデータ構造\n",
    "\"\"\"\n",
    "sequence(n::Int) ::Vector = [\n",
    "    n,\n",
    "    # 2つ目以降の数値を関数化することで遅延評価\n",
    "    # 再帰呼び出しすることで無限に遅延評価されるようになる\n",
    "    () -> sequence(n + 1)\n",
    "]\n",
    "\n",
    "display(sequence(1))\n",
    "display(sequence(1)[2]())\n",
    "display(sequence(1)[2]()[2]())"
   ]
  },
  {
   "cell_type": "markdown",
   "metadata": {},
   "source": [
    "### テストが容易\n",
    "モジュール化によりコードの独立性が高まると、単体テストが容易になる\n",
    "\n",
    "参照透過性のあるコードはその依存関係が明確であり、テストを何度繰り返しても結果は不変であるためである\n",
    "\n",
    "単体テストを行うことで、少なくともテストを行った項目に対して正常に処理が行われることが証明できるため、バグの発生を抑制することができる"
   ]
  },
  {
   "cell_type": "code",
   "execution_count": 19,
   "metadata": {},
   "outputs": [
    {
     "name": "stdout",
     "output_type": "stream",
     "text": [
      "乙が勝者\n",
      "甲が勝者\n",
      "引き分け\n"
     ]
    }
   ],
   "source": [
    "\"\"\"\n",
    "    mutable struct Player end\n",
    "\n",
    "ゲームプレイヤー\n",
    "\n",
    "# Arguments\n",
    "\n",
    "- `name::AbstractString`: プレイヤー名\n",
    "- `score::Int`: 点数\n",
    "\"\"\"\n",
    "mutable struct Player\n",
    "    name::AbstractString\n",
    "    score::Int\n",
    "end\n",
    "\n",
    "\n",
    "###############################################\n",
    "# 単体テストを行いにくいコード = 副作用を持つ関数 #\n",
    "###############################################\n",
    "\"\"\"\n",
    "    displayWinner(player1::Player, player2::Player)\n",
    "\n",
    "点数の多い方のプレイヤーの名前をコンソールに表示する\n",
    "\"\"\"\n",
    "displayWinner(player1::Player, player2::Player) = begin\n",
    "    if player1.score > player2.score\n",
    "        println(\"$(player1.name)が勝者\")\n",
    "    elseif player1.score < player2.score\n",
    "        println(\"$(player2.name)が勝者\")\n",
    "    else\n",
    "        println(\"引き分け\")\n",
    "    end\n",
    "end\n",
    "\n",
    "# 副作用を持つ関数は、目視でテストを行うしかない\n",
    "displayWinner(Player(\"甲\", 10), Player(\"乙\", 12))\n",
    "displayWinner(Player(\"甲\", 10), Player(\"乙\", 9))\n",
    "displayWinner(Player(\"甲\", 5), Player(\"乙\", 5))"
   ]
  },
  {
   "cell_type": "code",
   "execution_count": 20,
   "metadata": {},
   "outputs": [
    {
     "name": "stdout",
     "output_type": "stream",
     "text": [
      "乙が勝者\n",
      "甲が勝者\n",
      "引き分け\n"
     ]
    }
   ],
   "source": [
    "# MaybePlayer = Player | Nothing\n",
    "MaybePlayer = Union{Player, Nothing}\n",
    "\n",
    "#######################################\n",
    "# 副作用のある関数と純粋な関数に分離する #\n",
    "#######################################\n",
    "\"\"\"\n",
    "    getWinner(player1::Player, player2::Player) = winner::MaybePlayer\n",
    "\n",
    "プレイヤー同士のスコアを比較し、勝者を取得する (引き分けの場合は nothing を返す)\n",
    "* 純粋な関数のため、単体テストしやすい\n",
    "\"\"\"\n",
    "getWinner(player1::Player, player2::Player) ::MaybePlayer = begin\n",
    "    player1.score > player2.score && return player1\n",
    "    player1.score < player2.score && return player2\n",
    "    nothing # 引き分けの場合は nothing を返す\n",
    "end\n",
    "\n",
    "\"\"\"\n",
    "    makeAnnounce(winner::MaybePlayer) = announce::AbstractString\n",
    "\n",
    "勝者を告げる文字列を生成する\n",
    "* getWinner() と繋ぎやすくするため、getWinner() の返戻型と makeAnnounce() の引数型を統一している\n",
    "* 純粋な関数のため、単体テストしやすい\n",
    "\"\"\"\n",
    "makeAnnounce(winner::MaybePlayer) ::AbstractString = isnothing(winner) ? \"引き分け\" : \"$(winner.name)が勝者\"\n",
    "\n",
    "\"\"\"\n",
    "    displayWinner(player1::Player, player2::Player)\n",
    "\n",
    "点数の多い方のプレイヤーの名前をコンソールに表示する\n",
    "* 副作用のある関数: 目視でテストするしかない\n",
    "* 内部処理は純粋な関数の組み合わせでできているため、純粋な関数の妥当性検査さえできていれば、この関数自体の妥当性を検査する必要はあまりない\n",
    "  - 内部処理: 純粋関数`getWinner` |> 純粋関数`makeAnnounce` |> 副作用関数`plintln`\n",
    "\"\"\"\n",
    "displayWinner(player1::Player, player2::Player) = getWinner(player1, player2) |> makeAnnounce |> println\n",
    "\n",
    "displayWinner(Player(\"甲\", 10), Player(\"乙\", 12))\n",
    "displayWinner(Player(\"甲\", 10), Player(\"乙\", 9))\n",
    "displayWinner(Player(\"甲\", 5), Player(\"乙\", 5))"
   ]
  },
  {
   "cell_type": "code",
   "execution_count": 23,
   "metadata": {},
   "outputs": [
    {
     "name": "stdout",
     "output_type": "stream",
     "text": [
      "\u001b[0m\u001b[1mTest Summary:        | \u001b[22m\u001b[32m\u001b[1mPass  \u001b[22m\u001b[39m\u001b[36m\u001b[1mTotal\u001b[22m\u001b[39m\n",
      "getWinner() 関数の単体テスト | \u001b[32m   3  \u001b[39m\u001b[36m    3\u001b[39m\n",
      "\u001b[0m\u001b[1mTest Summary:           | \u001b[22m\u001b[32m\u001b[1mPass  \u001b[22m\u001b[39m\u001b[36m\u001b[1mTotal\u001b[22m\u001b[39m\n",
      "makeAnnounce() 関数の単体テスト | \u001b[32m   2  \u001b[39m\u001b[36m    2\u001b[39m\n"
     ]
    },
    {
     "data": {
      "text/plain": [
       "Test.DefaultTestSet(\"makeAnnounce() 関数の単体テスト\", Any[], 2, false, false)"
      ]
     },
     "metadata": {},
     "output_type": "display_data"
    }
   ],
   "source": [
    "\"\"\"\n",
    "単体テスト\n",
    "\"\"\"\n",
    "# Julia では単体テスト用に Test.jl パッケージが用意されている\n",
    "using Test\n",
    "\n",
    "@testset \"getWinner() 関数の単体テスト\" begin\n",
    "    # score:10 < score:12 のため player2 が期待値\n",
    "    player1, player2 = Player(\"甲\", 10), Player(\"乙\", 12)\n",
    "    @test getWinner(player1, player2) === player2\n",
    "\n",
    "    # score:10 > score:9 のため player1 が期待値\n",
    "    player1, player2 = Player(\"甲\", 10), Player(\"乙\", 9)\n",
    "    @test getWinner(player1, player2) === player1\n",
    "\n",
    "    # score:5 == score:5 のため nothing が期待値\n",
    "    player1, player2 = Player(\"甲\", 5), Player(\"乙\", 5)\n",
    "    @test getWinner(player1, player2) === nothing\n",
    "end\n",
    "\n",
    "@testset \"makeAnnounce() 関数の単体テスト\" begin\n",
    "    # 引数が Player の場合は \"$(player.name)が勝者\" が期待値\n",
    "    @test makeAnnounce(Player(\"丙\", 10)) === \"丙が勝者\"\n",
    "\n",
    "    # 引数が Nothing の場合は \"引き分け\" が期待値\n",
    "    @test makeAnnounce(nothing) === \"引き分け\"\n",
    "end"
   ]
  },
  {
   "cell_type": "markdown",
   "metadata": {},
   "source": [
    "### コードの正しさを証明できる\n",
    "参照透過性は `A == A` という等式が成立することであるため、等式によるコードの **推論** が可能である\n",
    "\n",
    "- 推論: ある式をもとにしてそれと等しい式を導出すること\n",
    "    - 言い換えれば、定義済みの置換ルールを適用することで、同等の意味を持つ別の式に変形すること\n",
    "- 単体テストも推論を使ったコードの正しさの証明と言える\n",
    "    - `関数() == 期待値` が成立するなら、その関数は正しいと言える"
   ]
  },
  {
   "cell_type": "code",
   "execution_count": null,
   "metadata": {},
   "outputs": [],
   "source": []
  }
 ],
 "metadata": {
  "kernelspec": {
   "display_name": "Julia 1.7.2",
   "language": "julia",
   "name": "julia-1.7"
  },
  "language_info": {
   "file_extension": ".jl",
   "mimetype": "application/julia",
   "name": "julia",
   "version": "1.7.2"
  },
  "orig_nbformat": 4
 },
 "nbformat": 4,
 "nbformat_minor": 2
}
